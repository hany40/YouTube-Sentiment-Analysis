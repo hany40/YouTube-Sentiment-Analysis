{
 "cells": [
  {
   "cell_type": "markdown",
   "metadata": {},
   "source": [
    "# Roberta-base-sentiment VS vaderSentiment"
   ]
  },
  {
   "cell_type": "code",
   "execution_count": 8,
   "metadata": {},
   "outputs": [],
   "source": [
    "# Load Packages\n",
    "import pandas as pd\n",
    "from transformers import TFAutoModelForSequenceClassification, AutoModelForSequenceClassification, AutoTokenizer\n",
    "import numpy as np\n",
    "from scipy.special import softmax\n",
    "from vaderSentiment.vaderSentiment import SentimentIntensityAnalyzer\n",
    "import pandas as pd\n",
    "import numpy as np\n",
    "import seaborn as sns\n",
    "import matplotlib.pyplot as plt\n",
    "import torch\n",
    "import torch.nn as nn"
   ]
  },
  {
   "cell_type": "code",
   "execution_count": 9,
   "metadata": {},
   "outputs": [],
   "source": [
    "df = pd.read_csv('output.csv')"
   ]
  },
  {
   "cell_type": "code",
   "execution_count": 10,
   "metadata": {},
   "outputs": [],
   "source": [
    "LABELS  = {\n",
    "    0: 'negative',\n",
    "    1: 'neutral',\n",
    "    2: 'positive'\n",
    "}"
   ]
  },
  {
   "cell_type": "markdown",
   "metadata": {},
   "source": [
    "## Roberta-base-sentiment Analysis"
   ]
  },
  {
   "cell_type": "code",
   "execution_count": 11,
   "metadata": {},
   "outputs": [],
   "source": [
    "MODEL = \"cardiffnlp/twitter-roberta-base-sentiment-latest\""
   ]
  },
  {
   "cell_type": "code",
   "execution_count": 12,
   "metadata": {},
   "outputs": [],
   "source": [
    "def roberta_get_sentiment_scores(text: str, tokenizer, model):\n",
    "    text = tokenizer(text, return_tensors='pt', max_length=512, truncation=True, padding=True)\n",
    "    output = model(**text)\n",
    "    scores = output[0][0].detach().numpy()\n",
    "    scores = softmax(scores)\n",
    "    return scores\n",
    "\n",
    "def roberta_analyze_sentiment(df: pd.DataFrame)  -> pd.DataFrame:\n",
    "    model = AutoModelForSequenceClassification.from_pretrained(MODEL)\n",
    "    tokenizer = AutoTokenizer.from_pretrained(MODEL)\n",
    "\n",
    "    scores = df['comment_en'].apply(lambda x: roberta_get_sentiment_scores(str(x), tokenizer, model)) \n",
    "    df[['roberta_negative', 'roberta_neutral', 'roberta_positive']] = scores.apply(pd.Series)\n",
    "    df['roberta_label'] = scores.apply(lambda x: LABELS[np.argmax(x)])\n",
    "    return df"
   ]
  },
  {
   "cell_type": "code",
   "execution_count": 13,
   "metadata": {},
   "outputs": [
    {
     "name": "stderr",
     "output_type": "stream",
     "text": [
      "Some weights of the model checkpoint at cardiffnlp/twitter-roberta-base-sentiment-latest were not used when initializing RobertaForSequenceClassification: ['roberta.pooler.dense.bias', 'roberta.pooler.dense.weight']\n",
      "- This IS expected if you are initializing RobertaForSequenceClassification from the checkpoint of a model trained on another task or with another architecture (e.g. initializing a BertForSequenceClassification model from a BertForPreTraining model).\n",
      "- This IS NOT expected if you are initializing RobertaForSequenceClassification from the checkpoint of a model that you expect to be exactly identical (initializing a BertForSequenceClassification model from a BertForSequenceClassification model).\n"
     ]
    }
   ],
   "source": [
    "df = roberta_analyze_sentiment(df)"
   ]
  },
  {
   "cell_type": "code",
   "execution_count": 14,
   "metadata": {},
   "outputs": [],
   "source": [
    "polarity_weights = torch.tensor([-1, 0, 1])\n",
    "probs = torch.tensor(df[[\"roberta_negative\", \"roberta_neutral\", \"roberta_positive\"]].values)\n",
    "polarity = (polarity_weights * probs).sum(dim=-1)\n",
    "polarity_scaled = nn.Tanh()(polarity)\n",
    "df[\"roberta_polarity\"] = polarity_scaled.numpy()"
   ]
  },
  {
   "cell_type": "markdown",
   "metadata": {},
   "source": [
    "## vaderSentiment"
   ]
  },
  {
   "cell_type": "code",
   "execution_count": 15,
   "metadata": {},
   "outputs": [],
   "source": [
    "def vader_analyze_sentiment(df: pd.DataFrame) -> pd.DataFrame:\n",
    "    analyzer = SentimentIntensityAnalyzer()\n",
    "\n",
    "    df['Score'] = df['comment_en'].apply(lambda x: analyzer.polarity_scores(str(x)))\n",
    "    df_scores = df['Score'].apply(pd.Series)\n",
    "    df_scores['vader_label'] = df_scores[['neg','neu','pos']].apply(lambda x: LABELS[np.argmax(x.values)], axis=1)\n",
    "    df = pd.concat([df, df_scores], axis=1).drop(columns=['Score'])\n",
    "    return   df.rename(columns={'neg': 'vader_negative',\n",
    "                       'neu': 'vader_neutral',\n",
    "                       'pos': 'vader_positive'\n",
    "                       })"
   ]
  },
  {
   "cell_type": "code",
   "execution_count": 16,
   "metadata": {},
   "outputs": [],
   "source": [
    "df = vader_analyze_sentiment(df)"
   ]
  },
  {
   "cell_type": "code",
   "execution_count": 17,
   "metadata": {},
   "outputs": [],
   "source": [
    "polarity_weights = torch.tensor([-1, 0, 1])\n",
    "probs = torch.tensor(df[[\"vader_negative\", \"vader_neutral\", \"vader_positive\"]].values)\n",
    "polarity = (polarity_weights * probs).sum(dim=-1)\n",
    "polarity_scaled = nn.Tanh()(polarity)\n",
    "df[\"vader_polarity\"] = polarity_scaled.numpy()"
   ]
  },
  {
   "cell_type": "code",
   "execution_count": null,
   "metadata": {},
   "outputs": [],
   "source": [
    "df.to_csv('output_sentiment.csv', encoding='utf-8', index=False)\n"
   ]
  }
 ],
 "metadata": {
  "kernelspec": {
   "display_name": "Python 3",
   "language": "python",
   "name": "python3"
  },
  "language_info": {
   "codemirror_mode": {
    "name": "ipython",
    "version": 3
   },
   "file_extension": ".py",
   "mimetype": "text/x-python",
   "name": "python",
   "nbconvert_exporter": "python",
   "pygments_lexer": "ipython3",
   "version": "3.13.0"
  }
 },
 "nbformat": 4,
 "nbformat_minor": 2
}
